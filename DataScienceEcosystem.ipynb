{
 "cells": [
  {
   "cell_type": "markdown",
   "id": "4bd99c91-a81d-46ec-9fd2-5f258d4dcf77",
   "metadata": {},
   "source": [
    "*__Exercise 2: Create markdown cell with title of the notebook__*"
   ]
  },
  {
   "cell_type": "markdown",
   "id": "6e42680c-0058-4197-9f00-83ccde098820",
   "metadata": {},
   "source": [
    "# Data Science Tools and Ecosystem\n"
   ]
  },
  {
   "cell_type": "markdown",
   "id": "8cb3b157-7914-493f-b7a0-68c27559d7e0",
   "metadata": {},
   "source": [
    "__*Exercise 3 - Create a markdown cell for an introduction*__\n"
   ]
  },
  {
   "cell_type": "markdown",
   "id": "5c9dccea-f013-4aaf-b8dd-ad7701433400",
   "metadata": {},
   "source": [
    "#### In this notebook, Data Science Tools and Ecosystem are summarized"
   ]
  },
  {
   "cell_type": "markdown",
   "id": "57378204-ca6a-454e-ab9d-acfc1543b8f7",
   "metadata": {},
   "source": [
    "***Exercise 10 - Insert a markdown cell to list Objectives***\n"
   ]
  },
  {
   "cell_type": "markdown",
   "id": "f6f18554-d80d-4b37-b79e-199c0e5cac6e",
   "metadata": {},
   "source": [
    "**Objectives:**\n",
    "* List popular languages of Data Science.\n",
    "* List popular libraries of Data science.\n",
    "* Create tables in Markdown cell.\n",
    "* Creating Arthmetic expression."
   ]
  },
  {
   "cell_type": "markdown",
   "id": "4af49843-c016-40cd-b3cd-0c1bb49a8d23",
   "metadata": {},
   "source": [
    "__*Exercise 4 - Create a markdown cell to list data science languages*__"
   ]
  },
  {
   "cell_type": "markdown",
   "id": "be156c4c-9fc3-4c8d-b6ae-87c4fb86e572",
   "metadata": {},
   "source": [
    "Some of the popular languages that Data Scientists use are:\n",
    "1. Python\n",
    "2. R\n",
    "3. SQL"
   ]
  },
  {
   "cell_type": "markdown",
   "id": "d52c258a-e5ae-41f7-abe2-274f1a655454",
   "metadata": {},
   "source": [
    "*__Exercise 5 - Create a markdown cell to list data science libraries__*"
   ]
  },
  {
   "cell_type": "markdown",
   "id": "3cb44ea0-0637-47b0-84a2-dfde23e2e72e",
   "metadata": {},
   "source": [
    "Some of the commonly used libraries used by Data Scientists include:\n",
    "1. Numpy\n",
    "2. Pandas\n",
    "3. Matplotlib"
   ]
  },
  {
   "cell_type": "markdown",
   "id": "4a28aa34-dc3f-41b1-b141-1472a9c73a80",
   "metadata": {},
   "source": [
    "*__Exercise 6 - Create a markdown cell with a table of Data Science tools__*"
   ]
  },
  {
   "cell_type": "markdown",
   "id": "7921e444-e335-4ec8-8bfb-f9e729d09388",
   "metadata": {},
   "source": [
    "| Data Science Tools|\n",
    "|--------|\n",
    "|Anaconda|\n",
    "|Rstudio|\n",
    "|Jupyter Notebook||"
   ]
  },
  {
   "cell_type": "markdown",
   "id": "a6b0f485-91af-4c2f-a1b6-97447c4b19d8",
   "metadata": {},
   "source": [
    "***Exercise 7 - Create a markdown cell introducing arithmetic expression examples***"
   ]
  },
  {
   "cell_type": "markdown",
   "id": "e5aa5119-ad04-4f7d-a73c-3280e295a36c",
   "metadata": {},
   "source": [
    "### Below are a few examples of evaluating arithmetic expressions in Python\n",
    "\n"
   ]
  },
  {
   "cell_type": "markdown",
   "id": "13a00eed-38c9-4f55-865d-d9dfc84fe061",
   "metadata": {},
   "source": [
    "***Exercise 8 - Create a code cell to multiply and add numbers***"
   ]
  },
  {
   "cell_type": "code",
   "execution_count": 29,
   "id": "84ae6e7d-2c22-4113-a06f-d4ab75d1e6f7",
   "metadata": {},
   "outputs": [
    {
     "data": {
      "text/plain": [
       "17"
      ]
     },
     "execution_count": 29,
     "metadata": {},
     "output_type": "execute_result"
    }
   ],
   "source": [
    "(3*4)+5\n",
    "\n",
    "# This a simple arithmetic expression to mutiply then add integers"
   ]
  },
  {
   "cell_type": "markdown",
   "id": "9f38475b-0687-4c86-bddd-c9694e604eee",
   "metadata": {},
   "source": [
    "***Exercise 9 - Create a code cell to convert minutes to hours***"
   ]
  },
  {
   "cell_type": "code",
   "execution_count": 35,
   "id": "6a951452-65fd-49fd-aaf2-0c2eb879321e",
   "metadata": {},
   "outputs": [
    {
     "data": {
      "text/plain": [
       "3.3333333333333335"
      ]
     },
     "execution_count": 35,
     "metadata": {},
     "output_type": "execute_result"
    }
   ],
   "source": [
    " 200/60 \n",
    "\n",
    "#This will convert 200 minutes to hours by diving by 60"
   ]
  },
  {
   "cell_type": "markdown",
   "id": "34d5888a-44ec-4e76-adae-e973f2a52027",
   "metadata": {},
   "source": [
    "***Exercise 11 - Create a markdown cell to indicate the Author's name***"
   ]
  },
  {
   "cell_type": "markdown",
   "id": "810db608-4aab-4844-bcdd-439c2e18b5f3",
   "metadata": {},
   "source": [
    "## Author\n",
    "D. Srisai Kiran"
   ]
  },
  {
   "cell_type": "code",
   "execution_count": null,
   "id": "b6af1486-c7f3-47bb-a0cc-41378128214c",
   "metadata": {},
   "outputs": [],
   "source": []
  }
 ],
 "metadata": {
  "kernelspec": {
   "display_name": "Python 3 (ipykernel)",
   "language": "python",
   "name": "python3"
  },
  "language_info": {
   "codemirror_mode": {
    "name": "ipython",
    "version": 3
   },
   "file_extension": ".py",
   "mimetype": "text/x-python",
   "name": "python",
   "nbconvert_exporter": "python",
   "pygments_lexer": "ipython3",
   "version": "3.11.7"
  }
 },
 "nbformat": 4,
 "nbformat_minor": 5
}
